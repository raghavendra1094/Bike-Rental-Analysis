{
 "cells": [
  {
   "cell_type": "code",
   "execution_count": null,
   "metadata": {},
   "outputs": [],
   "source": [
    "############importing libraries#############\n",
    "import os#To Interact with local system directories\n",
    "import pandas as pd# data processing\n",
    "import numpy as np # linear algebra \n",
    "import matplotlib.pyplot as plt#plotting\n",
    "from scipy.stats import chi2_contingency  #import chi2_contigency # \n",
    "import seaborn as sns# For Plots\n",
    "from random import randrange, uniform# To generate random numbers\n",
    "import datetime # To deal with dates, times and time intervals\n",
    "from sklearn.model_selection import train_test_split\n",
    "from sklearn.tree import DecisionTreeRegressor # from sklearn import cross_validation\n",
    "from sklearn.metrics import r2_score, mean_squared_error,mean_absolute_error\n",
    "import statsmodels.api as sm # develop Statistics models & Tests\n",
    "from sklearn.ensemble import RandomForestRegressor\n",
    "from  matplotlib import pyplot"
   ]
  },
  {
   "cell_type": "code",
   "execution_count": null,
   "metadata": {},
   "outputs": [],
   "source": [
    "############working directory#################\n",
    "os.chdir(\"F:/Rittal Docs/edwisor.com/02.Portfolio/01.Project-1/Actual/Received\")\n",
    "os.getcwd()\n",
    "\n",
    "#get the list of files in the  directly\n",
    "\n",
    "print(os.listdir(os.getcwd()))"
   ]
  },
  {
   "cell_type": "code",
   "execution_count": null,
   "metadata": {},
   "outputs": [],
   "source": [
    "###########loading dataset####################\n",
    "bike_train = pd.read_csv(\"day.csv\")\n",
    "\n",
    "#Print the `head` of the data\n",
    "bike_train.head()"
   ]
  },
  {
   "cell_type": "code",
   "execution_count": null,
   "metadata": {
    "scrolled": true
   },
   "outputs": [],
   "source": [
    "#understanding of data\n",
    "bike_train.shape\n",
    "#It contains (731, 16)\n",
    "\n",
    "bike_train.describe()\n",
    "\n",
    "#bike_train.info()\n",
    "\n",
    "#data  consist of Integers , Float  and Object(categorical) variables \n"
   ]
  },
  {
   "cell_type": "code",
   "execution_count": null,
   "metadata": {
    "scrolled": true
   },
   "outputs": [],
   "source": [
    "##################################################### Univariate Analysis##########################################\n",
    "# Target variable  analysis\n",
    "\n",
    "#descriptive statistics summary\n",
    "bike_train['cnt'].describe()"
   ]
  },
  {
   "cell_type": "code",
   "execution_count": null,
   "metadata": {},
   "outputs": [],
   "source": [
    "#Check whether target variable is normal or not\n",
    "sns.distplot(bike_train['cnt']);"
   ]
  },
  {
   "cell_type": "code",
   "execution_count": null,
   "metadata": {},
   "outputs": [],
   "source": [
    "#Distribution  independent numeric variables \n",
    "#Check whether  variable 'temp'is normal or not\n",
    "sns.distplot(bike_train['temp']);"
   ]
  },
  {
   "cell_type": "code",
   "execution_count": null,
   "metadata": {},
   "outputs": [],
   "source": [
    "#Check whether  variable 'atemp'is normal or not\n",
    "sns.distplot(bike_train['atemp']);"
   ]
  },
  {
   "cell_type": "code",
   "execution_count": null,
   "metadata": {},
   "outputs": [],
   "source": [
    "#Check whether  variable 'hum'is normal or not\n",
    "sns.distplot(bike_train['hum']);"
   ]
  },
  {
   "cell_type": "code",
   "execution_count": null,
   "metadata": {},
   "outputs": [],
   "source": [
    "#Check whether  variable 'windspeed'is normal or not\n",
    "sns.distplot(bike_train['windspeed']);"
   ]
  },
  {
   "cell_type": "code",
   "execution_count": null,
   "metadata": {},
   "outputs": [],
   "source": [
    "#Check whether  variable 'casual'is normal or not\n",
    "sns.distplot(bike_train['casual']);"
   ]
  },
  {
   "cell_type": "code",
   "execution_count": null,
   "metadata": {},
   "outputs": [],
   "source": [
    "#Check whether  variable 'registered'is normal or not\n",
    "sns.distplot(bike_train['registered']);\n",
    "\n",
    "# it is clearly showing that chances of outliers present in  'casual' varible"
   ]
  },
  {
   "cell_type": "code",
   "execution_count": null,
   "metadata": {},
   "outputs": [],
   "source": [
    "print(\"Skewness: %f\" % bike_train['cnt'].skew())\n",
    "print(\"Kurtosis: %f\" % bike_train['cnt'].kurt())\n",
    "\n",
    "#Here Skewness is very less so target variable  is normal distribution"
   ]
  },
  {
   "cell_type": "code",
   "execution_count": null,
   "metadata": {},
   "outputs": [],
   "source": [
    "######################################### Bivariate  Relationship #####################################################\n",
    "  \n",
    "#relation between Numerical Variable 'temp' and target variable 'cnt'\n",
    "\n",
    "bike_train['temp'].value_counts()"
   ]
  },
  {
   "cell_type": "code",
   "execution_count": null,
   "metadata": {},
   "outputs": [],
   "source": [
    "#Now draw scatter plot between 'temp' and 'cnt' variables\n",
    "\n",
    "var = 'temp'\n",
    "data = pd.concat([bike_train['cnt'], bike_train[var]], axis=1)\n",
    "data.plot.scatter(x=var, y='cnt', ylim=(0,9000));\n",
    "\n",
    "# It is showing  there is good relation between 'temp' and 'cnt'"
   ]
  },
  {
   "cell_type": "code",
   "execution_count": null,
   "metadata": {},
   "outputs": [],
   "source": [
    "#relation between Numerical Variable 'atemp' and target variable 'cnt'\n",
    "\n",
    "bike_train['atemp'].value_counts()"
   ]
  },
  {
   "cell_type": "code",
   "execution_count": null,
   "metadata": {},
   "outputs": [],
   "source": [
    "#Now draw scatter plot between 'temp' and 'cnt' variables\n",
    "\n",
    "var = 'atemp'\n",
    "data = pd.concat([bike_train['cnt'], bike_train[var]], axis=1)\n",
    "data.plot.scatter(x=var, y='cnt', ylim=(0,9000));\n",
    "\n",
    "# It is showing  there is good relation between 'atemp' and 'cnt'"
   ]
  },
  {
   "cell_type": "code",
   "execution_count": null,
   "metadata": {},
   "outputs": [],
   "source": [
    "#relation between Numerical Variable 'hum' and target variable 'cnt'\n",
    "\n",
    "bike_train['hum'].value_counts()"
   ]
  },
  {
   "cell_type": "code",
   "execution_count": null,
   "metadata": {},
   "outputs": [],
   "source": [
    "#Now draw scatter plot between 'hum' and 'cnt' variables\n",
    "\n",
    "var = 'hum'\n",
    "data = pd.concat([bike_train['cnt'], bike_train[var]], axis=1)\n",
    "data.plot.scatter(x=var, y='cnt', ylim=(0,9000));\n",
    "\n",
    "# It is showing  there is average relation between 'hum' and 'cnt'\n"
   ]
  },
  {
   "cell_type": "code",
   "execution_count": null,
   "metadata": {},
   "outputs": [],
   "source": [
    "#relation between Numerical Variable 'windspeed' and target variable 'cnt'\n",
    "\n",
    "bike_train['windspeed'].value_counts()"
   ]
  },
  {
   "cell_type": "code",
   "execution_count": null,
   "metadata": {},
   "outputs": [],
   "source": [
    "#Now draw scatter plot between 'windspeed' and 'cnt' variables\n",
    "\n",
    "var = 'windspeed'\n",
    "data = pd.concat([bike_train['cnt'], bike_train[var]], axis=1)\n",
    "data.plot.scatter(x=var, y='cnt', ylim=(0,9000));\n",
    "\n",
    "# It is showing  there is nagative relation between 'windspeed' and 'cnt'"
   ]
  },
  {
   "cell_type": "code",
   "execution_count": null,
   "metadata": {},
   "outputs": [],
   "source": [
    "#box plot 'Weekdays' with 'CNT'\n",
    "var_weekdays = 'weekday'\n",
    "data = pd.concat([bike_train['cnt'], bike_train[var_weekdays]], axis=1)\n",
    "f, ax = plt.subplots(figsize=(8, 6))\n",
    "fig = sns.boxplot(x=var_weekdays, y=\"cnt\", data=data)\n",
    "fig.axis(ymin=0, ymax=9000);\n",
    "\n",
    "#below Boxplot is saying that for all the weekdays median in between 4000- 5000  "
   ]
  },
  {
   "cell_type": "code",
   "execution_count": null,
   "metadata": {},
   "outputs": [],
   "source": [
    "#box plot 'weekends' with 'CNT'\n",
    "var_holiday = 'holiday'\n",
    "data = pd.concat([bike_train['cnt'], bike_train[var_holiday]], axis=1)\n",
    "f, ax = plt.subplots(figsize=(8, 6))\n",
    "fig = sns.boxplot(x=var_holiday, y=\"cnt\", data=data)\n",
    "fig.axis(ymin=0, ymax=9000);\n",
    "\n",
    "#below Boxplot is saying that median  high on  holidays when compare to weekdays"
   ]
  },
  {
   "cell_type": "code",
   "execution_count": null,
   "metadata": {},
   "outputs": [],
   "source": [
    "#checking the relationship between all numeric variable using pair plot\n",
    "plt.figure(figsize=(14,5))\n",
    "sns.pairplot(bike_train[:])"
   ]
  },
  {
   "cell_type": "code",
   "execution_count": null,
   "metadata": {},
   "outputs": [],
   "source": [
    "############exploratory data analysis#######################\n",
    "bike_train['season']= bike_train['season'].astype('category')\n",
    "bike_train['yr']=bike_train['yr'].astype('int')\n",
    "bike_train['mnth']=bike_train['mnth'].astype('category')\n",
    "bike_train['holiday']=bike_train['holiday'].astype('int')\n",
    "bike_train['workingday']=bike_train['workingday'].astype('int')\n",
    "bike_train['weekday']=bike_train['weekday'].astype('category')\n",
    "bike_train['weathersit']=bike_train['weathersit'].astype('category')\n",
    "d1=bike_train['dteday'].copy()\n",
    "for i in range (0,d1.shape[0]):\n",
    "    d1[i]=datetime.datetime.strptime(d1[i], '%Y-%m-%d').strftime('%d')\n",
    "bike_train['dteday']=d1\n",
    "bike_train['dteday']=bike_train['dteday'].astype('category')\n"
   ]
  },
  {
   "cell_type": "code",
   "execution_count": null,
   "metadata": {},
   "outputs": [],
   "source": [
    "bike_train.head"
   ]
  },
  {
   "cell_type": "code",
   "execution_count": null,
   "metadata": {},
   "outputs": [],
   "source": [
    "############Missing value analysis#################\n",
    "missing_val = pd.DataFrame(bike_train.isnull().sum())"
   ]
  },
  {
   "cell_type": "code",
   "execution_count": null,
   "metadata": {},
   "outputs": [],
   "source": [
    "missing_val"
   ]
  },
  {
   "cell_type": "code",
   "execution_count": null,
   "metadata": {},
   "outputs": [],
   "source": [
    "################Outlier Analysis###################\n",
    "\n",
    "#saving numeric values#\n",
    "cnames=[\"temp\",\"atemp\",\"hum\",\"windspeed\",]\n",
    "#ploting boxplotto visualize outliers#\n",
    "plt.boxplot(bike_train['temp'])\n"
   ]
  },
  {
   "cell_type": "code",
   "execution_count": null,
   "metadata": {},
   "outputs": [],
   "source": [
    "plt.boxplot(bike_train['atemp'])"
   ]
  },
  {
   "cell_type": "code",
   "execution_count": null,
   "metadata": {},
   "outputs": [],
   "source": [
    "plt.boxplot(bike_train['hum'])"
   ]
  },
  {
   "cell_type": "code",
   "execution_count": null,
   "metadata": {},
   "outputs": [],
   "source": [
    "plt.boxplot(bike_train['windspeed'])"
   ]
  },
  {
   "cell_type": "code",
   "execution_count": null,
   "metadata": {},
   "outputs": [],
   "source": [
    "#Already all numeric variable  are in normalize form\n",
    "#Here the  six  numerics variables are present  out of six four variables are in normalize form , \n",
    "#temp,atem,hum,windspread  are in  normalize form  no need to check outliers\n",
    "#casual and registered  have to check outliers\n",
    "\n",
    "bike_train_1 =  bike_train.copy()\n",
    "bike_train.head()\n",
    "\n",
    "#plt.boxplot(df_day_1['casual'])\n",
    "\n",
    "sns.set(style=\"whitegrid\")\n",
    " #tips = sns.load_dataset(\"tips\")\n",
    "ax = sns.boxplot(x=bike_train['casual'],orient ='h')\n",
    "\n",
    "#It seems Outliers are present  in  'Casual' variable  but we are keeping as it is , will detect and  convert outliers  during tuning \n",
    "#process\n",
    "\n",
    "# Correlation before  outlier treatment\n",
    "\n",
    "# Correlation between 'casual' and 'cnt'  before  removal of  outliers\n",
    "#sns.regplot(x=\"casual\", y=\"cnt\", data=df_day);\n",
    "bike_train['casual'].corr(bike_train['cnt'])"
   ]
  },
  {
   "cell_type": "code",
   "execution_count": null,
   "metadata": {},
   "outputs": [],
   "source": [
    "cnames = ['casual']\n",
    "for i in cnames:\n",
    "    q75, q25 = np.percentile(bike_train.loc[:,i], [75 ,25])\n",
    "    iqr = q75 - q25\n",
    "     \n",
    "     \n",
    "        \n",
    "min = q25 - (iqr*1.5)\n",
    "max = q75 + (iqr*1.5)\n",
    "        \n",
    "print(min)\n",
    "print(max)\n",
    "\n",
    "bike_train_out = bike_train.copy()\n",
    "\n",
    "bike_train_out = bike_train_out.drop(bike_train_out[bike_train_out.loc[:,i] < min].index)\n",
    "bike_train_out = bike_train_out.drop(bike_train_out[bike_train_out.loc[:,'casual'] > max].index)\n",
    "\n",
    "# Boxplot for casual after  aoutlier removal\n",
    "\n",
    "sns.set(style=\"whitegrid\")\n",
    " #tips = sns.load_dataset(\"tips\")\n",
    "ax = sns.boxplot(x=bike_train_out['casual'],orient ='h')\n",
    "\n",
    "# Correlation between 'casual' and 'cnt'  after  removal of  outliers\n",
    "sns.regplot(x=\"casual\", y=\"cnt\", data=bike_train_out);\n",
    "\n",
    "\n",
    "bike_train_out['casual'].corr(bike_train_out['cnt'])\n"
   ]
  },
  {
   "cell_type": "code",
   "execution_count": null,
   "metadata": {},
   "outputs": [],
   "source": [
    "#############Feature Selection ##################\n",
    "df_corr = bike_train\n",
    "#Set the width and hieght of the plot\n",
    "f, ax = plt.subplots(figsize=(7, 5))\n",
    "#Set the width and hieght of the plot\n",
    "f, ax = plt.subplots(figsize=(7, 5))\n",
    "#Generate correlation matrix\n",
    "corr = df_corr.corr()\n",
    "#Plot using seaborn library\n",
    "sns.heatmap(corr, mask=np.zeros_like(corr, dtype=np.bool), cmap=sns.diverging_palette(220, 10, as_cmap=True),\n",
    "            square=True, ax=ax)\n"
   ]
  },
  {
   "cell_type": "code",
   "execution_count": null,
   "metadata": {},
   "outputs": [],
   "source": [
    "#droping corelated variable\n",
    "bike_train = bike_train.drop(['atemp'], axis=1)"
   ]
  },
  {
   "cell_type": "code",
   "execution_count": null,
   "metadata": {},
   "outputs": [],
   "source": [
    "############# feature  Scaling ############\n",
    "#  Normality  Check #\n",
    "cnames = ['casual','registered']\n",
    "\n",
    "for i in cnames :\n",
    "    print(i)\n",
    "    bike_train[i] = (bike_train[i] - min(bike_train[i]))/(max(bike_train[i]) - min(bike_train[i]))\n",
    "\n",
    "bike_train.head()"
   ]
  },
  {
   "cell_type": "code",
   "execution_count": null,
   "metadata": {},
   "outputs": [],
   "source": [
    "############Modeling ###############################\n",
    "bike_train = bike_train.drop(['instant','casual', 'registered','dteday'], axis=1)\n",
    "\n",
    "#dividing data into train and test\n",
    "train, test = train_test_split(bike_train, test_size=0.2)"
   ]
  },
  {
   "cell_type": "code",
   "execution_count": null,
   "metadata": {},
   "outputs": [],
   "source": [
    "bike_train.shape"
   ]
  },
  {
   "cell_type": "code",
   "execution_count": null,
   "metadata": {},
   "outputs": [],
   "source": [
    "######c50#######\n",
    "fit_DT = DecisionTreeRegressor(max_depth=2).fit(train.iloc[:,0:10], train.iloc[:,10])\n",
    "predictions_DT = fit_DT.predict(test.iloc[:,0:10])"
   ]
  },
  {
   "cell_type": "code",
   "execution_count": null,
   "metadata": {},
   "outputs": [],
   "source": [
    "#  plotting decision tree\n",
    "from sklearn.externals.six import StringIO  \n",
    "from IPython.display import Image  \n",
    "from sklearn.tree import export_graphviz\n",
    "import pydotplus\n",
    "dot_data = StringIO()\n",
    "export_graphviz(fit_DT, out_file=dot_data,  \n",
    "                filled=True, rounded=True,\n",
    "                special_characters=True)\n",
    "graph = pydotplus.graph_from_dot_data(dot_data.getvalue())  \n",
    "Image(graph.create_png())"
   ]
  },
  {
   "cell_type": "code",
   "execution_count": null,
   "metadata": {},
   "outputs": [],
   "source": [
    "#random forest\n",
    "\n",
    "# function to increment n_estimators one by one and calculate error rate.. \n",
    "\n",
    "error_rate_R=[]\n",
    "for i in range(1,201):\n",
    "    ran =RandomForestRegressor(n_estimators=i)\n",
    "    ran.fit(train.iloc[:,0:10], train.iloc[:,10])\n",
    "    pred_i_R=ran.predict(test.iloc[:,0:10])\n",
    "    error_rate_R.append(np.mean(np.abs(((test.iloc[:,10]) - pred_i_R) / (test.iloc[:,10])))*100)"
   ]
  },
  {
   "cell_type": "code",
   "execution_count": null,
   "metadata": {},
   "outputs": [],
   "source": [
    "# plot of error rate by the function\n",
    "\n",
    "plt.figure(figsize=(8,4))\n",
    "plt.plot(range(1,201),error_rate_R,marker='o')\n",
    "plt.ylabel( \"Error\")\n",
    "plt.xlabel( \"Tree\" )\n",
    "plt.show()"
   ]
  },
  {
   "cell_type": "code",
   "execution_count": null,
   "metadata": {},
   "outputs": [],
   "source": [
    "#random forest\n",
    "RFmodel = RandomForestRegressor(n_estimators = 200).fit(train.iloc[:,0:10], train.iloc[:,10])\n",
    "RF_Predictions = RFmodel.predict(test.iloc[:,0:10])"
   ]
  },
  {
   "cell_type": "code",
   "execution_count": null,
   "metadata": {},
   "outputs": [],
   "source": [
    "############################################# Linear Regression ############################\n",
    "#develop Linear Regression model using sm.ols\n",
    "lr_model = sm.OLS(train.iloc[:,10].astype(float), train.iloc[:,0:10].astype(float)).fit()\n",
    "#predict the  model\n",
    "lr_predictions = lr_model.predict(test.iloc[:,0:10])"
   ]
  },
  {
   "cell_type": "code",
   "execution_count": null,
   "metadata": {},
   "outputs": [],
   "source": [
    "lr_model.summary()"
   ]
  },
  {
   "cell_type": "code",
   "execution_count": null,
   "metadata": {},
   "outputs": [],
   "source": [
    "#Create continuous data. Save target variable first\n",
    "train_lr = train[['cnt','temp','hum','windspeed']]\n",
    "test_lr = test[['cnt','temp','hum','windspeed']]"
   ]
  },
  {
   "cell_type": "code",
   "execution_count": null,
   "metadata": {},
   "outputs": [],
   "source": [
    "##Create dummies for categorical variables\n",
    "cat_names = [\"season\", \"yr\", \"mnth\", \"weekday\", \"workingday\", \"weathersit\",\"holiday\"]\n",
    "\n",
    "for i in cat_names:\n",
    "    temp1 = pd.get_dummies(train[i], prefix = i)\n",
    "    temp2 = pd.get_dummies(test[i], prefix = i)\n",
    "    train_lr = train_lr.join(temp1)\n",
    "    test_lr = test_lr.join(temp2)"
   ]
  },
  {
   "cell_type": "code",
   "execution_count": null,
   "metadata": {},
   "outputs": [],
   "source": [
    "#Train the model\n",
    "model = sm.OLS(train_lr.iloc[:, 0], train_lr.iloc[:, 1:34 ]).fit()\n",
    "predictions_LR = model.predict(test_lr.iloc[:,1:34])"
   ]
  },
  {
   "cell_type": "code",
   "execution_count": null,
   "metadata": {},
   "outputs": [],
   "source": [
    "model.summary()"
   ]
  },
  {
   "cell_type": "code",
   "execution_count": null,
   "metadata": {},
   "outputs": [],
   "source": [
    "######Visualization of Linear regression model\n",
    "plt.scatter(test_lr.iloc[:,0],predictions_LR)\n",
    "plt.ylabel( \"Predicted Counts\")\n",
    "plt.xlabel( \"Actual Counts\" )\n",
    "plt.show()"
   ]
  },
  {
   "cell_type": "code",
   "execution_count": null,
   "metadata": {},
   "outputs": [],
   "source": [
    "############################################# KNN implementation ############################\n",
    "from sklearn.neighbors import KNeighborsRegressor\n",
    "\n",
    "# function to increment n_neighbors one by one and calculate error rate. \n",
    "error_rate=[]\n",
    "for i in range(1,40):\n",
    "    knn =KNeighborsRegressor(n_neighbors=i)\n",
    "    knn.fit(train.iloc[:,0:10], train.iloc[:,10])\n",
    "    pred_i=knn.predict(test.iloc[:,0:10])\n",
    "    error_rate.append(np.mean(np.abs(((test.iloc[:,10]) - pred_i) / (test.iloc[:,10])))*100)"
   ]
  },
  {
   "cell_type": "code",
   "execution_count": null,
   "metadata": {},
   "outputs": [],
   "source": [
    "# plot of error rate by the function\n",
    "plt.figure(figsize=(8,4))\n",
    "plt.plot(range(1,40),error_rate,marker='o')"
   ]
  },
  {
   "cell_type": "code",
   "execution_count": null,
   "metadata": {},
   "outputs": [],
   "source": [
    "KNN_model = KNeighborsRegressor(n_neighbors = 6)"
   ]
  },
  {
   "cell_type": "code",
   "execution_count": null,
   "metadata": {},
   "outputs": [],
   "source": [
    "KNN_model.fit(train.iloc[:,0:10], train.iloc[:,10])"
   ]
  },
  {
   "cell_type": "code",
   "execution_count": null,
   "metadata": {},
   "outputs": [],
   "source": [
    "KNN_predictions = KNN_model.predict(test.iloc[:,0:10])"
   ]
  },
  {
   "cell_type": "code",
   "execution_count": null,
   "metadata": {},
   "outputs": [],
   "source": [
    "#defining MAPE function\n",
    "def MAPE(y_true, y_pred): \n",
    "    mape = np.mean(np.abs((y_true - y_pred) / y_true))*100\n",
    "    return mape"
   ]
  },
  {
   "cell_type": "code",
   "execution_count": null,
   "metadata": {},
   "outputs": [],
   "source": [
    "#defining RMSE function\n",
    "def RMSE(y_test,y_predict):\n",
    "    mse = np.mean((y_test-y_predict)**2)\n",
    "    print(\"Mean Square : \",mse)\n",
    "    rmse=np.sqrt(mse)\n",
    "    print(\"Root Mean Square : \",rmse)\n",
    "    return rmse"
   ]
  },
  {
   "cell_type": "code",
   "execution_count": null,
   "metadata": {},
   "outputs": [],
   "source": [
    "#MAPE for decision tree regression\n",
    "MAPE(test.iloc[:,10], predictions_DT)"
   ]
  },
  {
   "cell_type": "code",
   "execution_count": null,
   "metadata": {},
   "outputs": [],
   "source": [
    "#MAPE for random forest regression\n",
    "MAPE(test.iloc[:,10],RF_Predictions)"
   ]
  },
  {
   "cell_type": "code",
   "execution_count": null,
   "metadata": {},
   "outputs": [],
   "source": [
    "#MAPE for Linear regression\n",
    "MAPE(test_lr.iloc[:,0],predictions_LR)"
   ]
  },
  {
   "cell_type": "code",
   "execution_count": null,
   "metadata": {},
   "outputs": [],
   "source": [
    "#MAPE for KNN\n",
    "MAPE(test.iloc[:,10],KNN_predictions)"
   ]
  },
  {
   "cell_type": "code",
   "execution_count": null,
   "metadata": {},
   "outputs": [],
   "source": [
    "#RMSE for decision tree regression\n",
    "RMSE(test.iloc[:,10], predictions_DT)"
   ]
  },
  {
   "cell_type": "code",
   "execution_count": null,
   "metadata": {},
   "outputs": [],
   "source": [
    "#RMSE for random forest regression\n",
    "RMSE(test.iloc[:,10],RF_Predictions)"
   ]
  },
  {
   "cell_type": "code",
   "execution_count": null,
   "metadata": {},
   "outputs": [],
   "source": [
    "#RMSE for linear regression\n",
    "RMSE(test_lr.iloc[:,0],predictions_LR)"
   ]
  },
  {
   "cell_type": "code",
   "execution_count": null,
   "metadata": {},
   "outputs": [],
   "source": [
    "#RMSE for KNN\n",
    "RMSE(test.iloc[:,10],KNN_predictions)"
   ]
  },
  {
   "cell_type": "code",
   "execution_count": null,
   "metadata": {},
   "outputs": [],
   "source": [
    "result=pd.DataFrame(test.iloc[:,0:11])\n",
    "result['pred_cnt'] = (RF_Predictions)\n",
    "\n",
    "result.to_csv(\"RF output python.csv\",index=False)"
   ]
  },
  {
   "cell_type": "code",
   "execution_count": null,
   "metadata": {},
   "outputs": [],
   "source": [
    "##########################################data visualization##############################################3\n",
    "import matplotlib.pyplot as plt"
   ]
  },
  {
   "cell_type": "code",
   "execution_count": null,
   "metadata": {},
   "outputs": [],
   "source": [
    "bike_train_V=bike_train.copy()"
   ]
  },
  {
   "cell_type": "code",
   "execution_count": null,
   "metadata": {},
   "outputs": [],
   "source": [
    "#Visualization on result stored on seasonal,holiday & weather conditional settings\n",
    "bike_train_V['actual_season'] = bike_train_V['season'].replace({1:\"Spring\",2:\"Summer\",3:\"Fall\",4:\"Winter\"})\n",
    "bike_train_V['actual_holiday'] = bike_train_V['holiday'].replace({0:\"Working day\",1:\"Holiday\"})\n",
    "bike_train_V['act_weather_condition'] = bike_train_V['weathersit'].replace({1:\"Clear\",2:\"Cloudy/Mist\",3:\"Light Rain/snow/Scattered clouds\",4:\"Heavy Rain/Snow/Fog\"})"
   ]
  },
  {
   "cell_type": "code",
   "execution_count": null,
   "metadata": {},
   "outputs": [],
   "source": [
    "#Visualization on Season wise bike rental actual count\n",
    "plt.title('Season wise bike rental count')\n",
    "plt.ylabel('Actual Count')\n",
    "plt.xlabel('season')\n",
    "plt.bar(bike_train_V[\"actual_season\"],bike_train_V[\"cnt\"],  align='center')"
   ]
  },
  {
   "cell_type": "code",
   "execution_count": null,
   "metadata": {},
   "outputs": [],
   "source": [
    "#Visualization on Season wise bike rental predicted count\n",
    "plt.title('Season wise bike retal count')\n",
    "plt.ylabel('Predicted Count')\n",
    "plt.xlabel('season')\n",
    "plt.bar(result[\"season\"],result[\"pred_cnt\"],  align='center')"
   ]
  },
  {
   "cell_type": "code",
   "execution_count": null,
   "metadata": {},
   "outputs": [],
   "source": [
    "#Visualization on Holiday wise bike rental Actual count\n",
    "plt.title('holiday wise bike rental count')\n",
    "plt.ylabel('Actual Count')\n",
    "plt.xlabel('holiday')\n",
    "plt.bar(bike_train_V[\"actual_holiday\"],bike_train_V[\"cnt\"], align='center',color=['green'])"
   ]
  },
  {
   "cell_type": "code",
   "execution_count": null,
   "metadata": {},
   "outputs": [],
   "source": [
    "#Visualization on Holiday wise bike rental Predicted count\n",
    "plt.title('holiday wise bike rental count')\n",
    "plt.ylabel('Predicted Count')\n",
    "plt.xlabel('holiday')\n",
    "plt.bar(result[\"holiday\"],result[\"pred_cnt\"],align='center',color=['green'])"
   ]
  },
  {
   "cell_type": "code",
   "execution_count": null,
   "metadata": {},
   "outputs": [],
   "source": [
    "#Visualization on Weather condition wise bike rental Actual count\n",
    "plt.title('weather condition wise bike rental count')\n",
    "plt.ylabel('Actual Count')\n",
    "plt.xlabel('weather_condition')\n",
    "plt.bar(bike_train_V[\"act_weather_condition\"],bike_train_V[\"cnt\"], align='center',color=['red'])"
   ]
  },
  {
   "cell_type": "code",
   "execution_count": null,
   "metadata": {},
   "outputs": [],
   "source": [
    "#Visualization on Weather Condition wise bike rental Predicted count\n",
    "plt.title('weather condition wise bike rental count')\n",
    "plt.ylabel('Predicted Count')\n",
    "plt.xlabel('weather_condition')\n",
    "plt.bar(result[\"weathersit\"],result[\"pred_cnt\"], align='center',color=['red'])"
   ]
  }
 ],
 "metadata": {
  "kernelspec": {
   "display_name": "Python 3",
   "language": "python",
   "name": "python3"
  },
  "language_info": {
   "codemirror_mode": {
    "name": "ipython",
    "version": 3
   },
   "file_extension": ".py",
   "mimetype": "text/x-python",
   "name": "python",
   "nbconvert_exporter": "python",
   "pygments_lexer": "ipython3",
   "version": "3.7.4"
  }
 },
 "nbformat": 4,
 "nbformat_minor": 2
}
